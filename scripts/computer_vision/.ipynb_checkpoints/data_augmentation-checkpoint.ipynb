{
 "cells": [
  {
   "cell_type": "markdown",
   "id": "024f75ef",
   "metadata": {},
   "source": [
    "# Data_augmentation\n",
    "Script de _data augmentation_ du dataset d'entraînement pour la classification supervisée des armures textiles. \n",
    "Une partie du script est inspirée par le code suivant : https://github.com/mikekestemont/DeepScript/blob/master/DeepScript/augment.py"
   ]
  },
  {
   "cell_type": "code",
   "execution_count": 2,
   "id": "49916a58",
   "metadata": {},
   "outputs": [],
   "source": [
    "import cv2\n",
    "import matplotlib.pyplot as plt\n",
    "import numpy as np\n",
    "import os\n",
    "from sklearn.feature_extraction import image\n",
    "import shutil\n",
    "import random\n",
    "\n",
    "from PIL import Image"
   ]
  },
  {
   "cell_type": "code",
   "execution_count": 3,
   "id": "09ff4e14",
   "metadata": {},
   "outputs": [
    {
     "name": "stdout",
     "output_type": "stream",
     "text": [
      "/Users/lise/memoire_tech/M2_HN/data/dataset_technique\n"
     ]
    }
   ],
   "source": [
    "cd ../../data/dataset_technique"
   ]
  },
  {
   "cell_type": "markdown",
   "id": "2668ec60",
   "metadata": {},
   "source": [
    "## Récupération de patches dans les images"
   ]
  },
  {
   "cell_type": "code",
   "execution_count": 4,
   "id": "a84a9f32",
   "metadata": {},
   "outputs": [
    {
     "data": {
      "text/plain": [
       "'dataset_augment'"
      ]
     },
     "execution_count": 4,
     "metadata": {},
     "output_type": "execute_result"
    }
   ],
   "source": [
    "#Copie du dataset original pour ensuite y ajouter des images\n",
    "shutil.copytree('dataset', 'dataset_augment', dirs_exist_ok=True) "
   ]
  },
  {
   "cell_type": "code",
   "execution_count": 5,
   "id": "a93b93fe",
   "metadata": {},
   "outputs": [],
   "source": [
    "#Chemin vers le nouveau dataset\n",
    "dataset_augment = \"dataset_augment\""
   ]
  },
  {
   "cell_type": "code",
   "execution_count": 6,
   "id": "bae3521b",
   "metadata": {},
   "outputs": [
    {
     "name": "stdout",
     "output_type": "stream",
     "text": [
      "Mesh\n",
      "Balancedweave\n",
      "Weftfacedcloth\n",
      "Mixedweave\n",
      "Warpfacedcloth\n"
     ]
    }
   ],
   "source": [
    "#Découpage de patchs qui font un quart des images originales pour les catégories qui ont moins d'images que le seuil fixé.\n",
    "class_folders = [dir for dir in os.listdir(dataset_augment) if os.path.isdir(os.path.join(dataset_augment, dir))]\n",
    "\n",
    "for class_folder in class_folders : \n",
    "    print(class_folder)\n",
    "    class_path = os.path.join(dataset_augment, class_folder)\n",
    "    images = [image for image in os.listdir(class_path) if os.path.isfile(os.path.join(class_path, image))]\n",
    "    while len(os.listdir(class_path)) < 150 : #Seuil qui fait qu'on augmente que les deux plus petites classes\n",
    "        for img in images : \n",
    "            image_orig = cv2.imread(f'{class_path}/{img}')\n",
    "            image_rgb = cv2.cvtColor(image_orig, cv2.COLOR_BGR2RGB) #Gestion de la couleur\n",
    "            \n",
    "            h = int(image_rgb.shape[0]/4) #Hauteur du patch\n",
    "            l = int(image_rgb.shape[1]/4) #Largeur du patch\n",
    "            \n",
    "            patches = image.extract_patches_2d(image_rgb, (h, l), max_patches=3) #On récupère 3 patchs faisant un quart de l'image\n",
    "            \n",
    "            cv2.imwrite(f'{class_path}/patch0_{img}', cv2.cvtColor(patches[0], cv2.COLOR_RGB2BGR)) \n",
    "            cv2.imwrite(f'{class_path}/patch1_{img}', cv2.cvtColor(patches[1], cv2.COLOR_RGB2BGR))\n",
    "            cv2.imwrite(f'{class_path}/patch2_{img}', cv2.cvtColor(patches[2], cv2.COLOR_RGB2BGR)) "
   ]
  },
  {
   "cell_type": "markdown",
   "id": "0c0b2a76",
   "metadata": {},
   "source": [
    "## Modifier les patchs avec flipping de tous"
   ]
  },
  {
   "cell_type": "code",
   "execution_count": 7,
   "id": "c0efc52c",
   "metadata": {},
   "outputs": [
    {
     "name": "stdout",
     "output_type": "stream",
     "text": [
      "Mesh\n",
      "Balancedweave\n",
      "Weftfacedcloth\n",
      "Mixedweave\n",
      "Warpfacedcloth\n"
     ]
    }
   ],
   "source": [
    "class_folders = [dir for dir in os.listdir(dataset_augment) if os.path.isdir(os.path.join(dataset_augment, dir))]\n",
    "\n",
    "for class_folder in class_folders : \n",
    "    print(class_folder)\n",
    "    class_path = os.path.join(dataset_augment, class_folder)\n",
    "    images = [image_orig for image_orig in os.listdir(class_path) if os.path.isfile(os.path.join(class_path, image_orig))]\n",
    "    for img in images : \n",
    "        if 'patch' in img : #Uniquement pour les patchs\n",
    "            src = cv2.imread(f'{class_path}/{img}') \n",
    "            nb = random.choice([0,1]) #Renversement vertical ou horizontal aléatoire\n",
    "            img_flip = cv2.flip(src, nb) #Flipping des images\n",
    "            \n",
    "            cv2.imwrite(f'{class_path}/{img}',img_flip)"
   ]
  },
  {
   "cell_type": "markdown",
   "id": "8203043f",
   "metadata": {},
   "source": [
    "## Rotations aléatoires pour toutes les classes\n",
    "Rotations aléatoires dans la totalité du corpus"
   ]
  },
  {
   "cell_type": "code",
   "execution_count": 9,
   "id": "6123c7f6",
   "metadata": {
    "scrolled": true
   },
   "outputs": [
    {
     "name": "stdout",
     "output_type": "stream",
     "text": [
      "Mesh\n",
      "Balancedweave\n",
      "Weftfacedcloth\n",
      "Mixedweave\n",
      "BML036_IMG_3484.jpg\n",
      "BML056_IMG_3710.jpg\n",
      "BML036_IMG_3483.jpg\n",
      "BML036_IMG_3482.jpg\n",
      "BML061_IMG_3749.jpg\n",
      "BML065_IMG_3786.jpg\n",
      "BML065_IMG_3792.jpg\n",
      "BML065_IMG_3789.jpg\n",
      "BML065_IMG_3788.jpg\n",
      "Warpfacedcloth\n",
      "BML035_IMG_3473.jpg\n",
      "BML057_IMG_3716.jpg\n",
      "BML035_IMG_3471.jpg\n",
      "BML057_IMG_3717.jpg\n",
      "MSF055_IM_2037.jpg\n",
      "BML064_IMG_3784.jpg\n",
      "CRR014_SR_S1_6028.jpg\n",
      "CRR021_SR_S1_6173.jpg\n",
      "BML064_IMG_3774.jpg\n",
      "BML057_IMG_3721.jpg\n",
      "BML057_IMG_3723.jpg\n",
      "CRR022_SR_S1_6202.jpg\n",
      "BML057_IMG_3719.jpg\n",
      "MSF076_IMG_6278.jpg\n",
      "BML057_IMG_3718.jpg\n"
     ]
    }
   ],
   "source": [
    "class_folders = [dir for dir in os.listdir(dataset_augment) if os.path.isdir(os.path.join(dataset_augment, dir))]\n",
    "\n",
    "for class_folder in class_folders : \n",
    "    print(class_folder)\n",
    "    class_path = os.path.join(dataset_augment, class_folder)\n",
    "    images = [image_orig for image_orig in os.listdir(class_path) if os.path.isfile(os.path.join(class_path, image_orig))]\n",
    "    for img in images : \n",
    "        try : \n",
    "            src = Image.open(f'{class_path}/{img}')\n",
    "            angle = random.choice([0, 90, 180, 270]) #Angles de rotation aléatoires\n",
    "            img_rotate = src.rotate(angle, expand=True) #Rotation. Expand=True nous permet d'ajuster la taille de la photo\n",
    "\n",
    "            img_rotate.save(f'{class_path}/{img}')\n",
    "        except : #Nécessaire car certaines images sont illisibles\n",
    "            print(img)\n"
   ]
  }
 ],
 "metadata": {
  "kernelspec": {
   "display_name": "Python 3 (ipykernel)",
   "language": "python",
   "name": "python3"
  },
  "language_info": {
   "codemirror_mode": {
    "name": "ipython",
    "version": 3
   },
   "file_extension": ".py",
   "mimetype": "text/x-python",
   "name": "python",
   "nbconvert_exporter": "python",
   "pygments_lexer": "ipython3",
   "version": "3.11.8"
  }
 },
 "nbformat": 4,
 "nbformat_minor": 5
}
