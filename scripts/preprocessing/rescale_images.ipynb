{
 "cells": [
  {
   "cell_type": "code",
   "execution_count": 1,
   "id": "01c017e5",
   "metadata": {},
   "outputs": [
    {
     "name": "stdout",
     "output_type": "stream",
     "text": [
      "Intel MKL WARNING: Support of Intel(R) Streaming SIMD Extensions 4.2 (Intel(R) SSE4.2) enabled only processors has been deprecated. Intel oneAPI Math Kernel Library 2025.0 will require Intel(R) Advanced Vector Extensions (Intel(R) AVX) instructions.\n",
      "Intel MKL WARNING: Support of Intel(R) Streaming SIMD Extensions 4.2 (Intel(R) SSE4.2) enabled only processors has been deprecated. Intel oneAPI Math Kernel Library 2025.0 will require Intel(R) Advanced Vector Extensions (Intel(R) AVX) instructions.\n"
     ]
    }
   ],
   "source": [
    "import os\n",
    "import pandas as pd\n",
    "import cv2\n",
    "import numpy as np"
   ]
  },
  {
   "cell_type": "code",
   "execution_count": 2,
   "id": "24255a1d",
   "metadata": {},
   "outputs": [
    {
     "name": "stdout",
     "output_type": "stream",
     "text": [
      "/Users/lise/memoire_tech/M2_HN/data\n"
     ]
    }
   ],
   "source": [
    "cd ../../data"
   ]
  },
  {
   "cell_type": "markdown",
   "id": "6b2758c2",
   "metadata": {},
   "source": [
    "Source : https://docs.opencv.org/3.4/da/d54/group__imgproc__transform.html#ga47a974309e9102f5f08231edc7e7529d"
   ]
  },
  {
   "cell_type": "code",
   "execution_count": 3,
   "id": "f15b7212",
   "metadata": {},
   "outputs": [],
   "source": [
    "with open(\"textile_clean.csv\") as csv :\n",
    "    df_textile = pd.read_csv(csv, sep=\"\\t\")"
   ]
  },
  {
   "cell_type": "code",
   "execution_count": 4,
   "id": "f90e79dd",
   "metadata": {},
   "outputs": [
    {
     "name": "stdout",
     "output_type": "stream",
     "text": [
      "BML065_IMG_3786.jpg\n"
     ]
    }
   ],
   "source": [
    "directory = \"images/images_jpg\"\n",
    "\n",
    "#Récupération du répertoire au sein duquel se situe l'image et création d'un répertoire pour les images compressées\n",
    "imgpath_load = directory\n",
    "imgpath_save = directory + \"/img_rescaled/\"\n",
    "if not os.path.exists(imgpath_save):\n",
    "    os.makedirs(imgpath_save)\n",
    "        \n",
    "#Récupération de la première image de chaque pièce\n",
    "imglist = []\n",
    "\n",
    "for i in range(696) : \n",
    "    im_name = df_textile['image'][i]\n",
    "    im_name = im_name.split()[0]\n",
    "    im_name = im_name.replace(\"[\", \"\")\n",
    "    im_name = im_name.replace(\"]\", \"\")\n",
    "    im_name = im_name.replace(\"'\", \"\")\n",
    "    im_name = im_name.replace(\",\", \"\")\n",
    "    imglist.append(im_name)\n",
    "\n",
    "#print(\"\\nTotal number of images: \", len(imglist))\n",
    "#print(imglist)\n",
    "\n",
    "\n",
    "for image in imglist :\n",
    "    #Vérification de la taille de l'image originale\n",
    "    try : \n",
    "        imread = cv2.imread(f\"images/images_jpg/{image}\")\n",
    "        h,w,c = imread.shape\n",
    "        \n",
    "        #Redimensionnement avec un des côtés de dimmension 100.\n",
    "        #INTER_AREA est une méthode de \"resampling using pixel area relation\".\n",
    "        smaller_side = np.minimum(h, w)\n",
    "        scale_factor = 100. / smaller_side\n",
    "        \n",
    "    \n",
    "        img_resized = cv2.resize(imread,(int(h * scale_factor), int(w * scale_factor)), interpolation= cv2.INTER_AREA)\n",
    "        \n",
    "        cv2.imwrite(f'images/images_jpg/img_rescaled/comp_{image}', img_resized)\n",
    "        \n",
    "    except :\n",
    "        print(image)\n",
    "        pass"
   ]
  }
 ],
 "metadata": {
  "kernelspec": {
   "display_name": "Python 3 (ipykernel)",
   "language": "python",
   "name": "python3"
  },
  "language_info": {
   "codemirror_mode": {
    "name": "ipython",
    "version": 3
   },
   "file_extension": ".py",
   "mimetype": "text/x-python",
   "name": "python",
   "nbconvert_exporter": "python",
   "pygments_lexer": "ipython3",
   "version": "3.11.8"
  }
 },
 "nbformat": 4,
 "nbformat_minor": 5
}
